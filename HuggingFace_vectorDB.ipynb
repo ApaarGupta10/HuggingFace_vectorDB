{
  "nbformat": 4,
  "nbformat_minor": 0,
  "metadata": {
    "colab": {
      "provenance": [],
      "include_colab_link": true
    },
    "kernelspec": {
      "name": "python3",
      "display_name": "Python 3"
    },
    "language_info": {
      "name": "python"
    }
  },
  "cells": [
    {
      "cell_type": "markdown",
      "metadata": {
        "id": "view-in-github",
        "colab_type": "text"
      },
      "source": [
        "<a href=\"https://colab.research.google.com/github/ApaarGupta10/HuggingFace_vectorDB/blob/main/HuggingFace_vectorDB.ipynb\" target=\"_parent\"><img src=\"https://colab.research.google.com/assets/colab-badge.svg\" alt=\"Open In Colab\"/></a>"
      ]
    },
    {
      "cell_type": "markdown",
      "source": [
        "# Create a local Vector DB using Hugging Face API\n",
        "- See word embeddings using  Embedding projector http://projector.tensorflow.org/\n",
        "\n",
        "- need hugging face token https://huggingface.co/settings/tokens"
      ],
      "metadata": {
        "id": "mQ71l42Y2IaP"
      }
    },
    {
      "cell_type": "code",
      "source": [
        "####################\n",
        "# Embed a single query\n",
        "# query_text = \"What is the capital of France?\"\n",
        "# query_embedding = embeddings.embed_query(query_text)\n",
        "######################################\n",
        "\n",
        "# vectorstore = InMemoryVectorStore.from_documents(\n",
        "#     documents,\n",
        "#     embeddings\n",
        "# )\n",
        "\n",
        "# Create and populate In-Memory Vector Store\n",
        "# vector_store = InMemoryVectorStore(embeddings)\n",
        "# vector_store.add_texts(documents)\n",
        "\n",
        "# 4. Perform a semantic search\n",
        "# query = \"Tell me about animals.\"\n",
        "# print(f\"\\nPerforming semantic search for query: '{query}'\")\n",
        "\n",
        "# similarity_search returns a list of Document objects\n",
        "# k determines the number of results to return (default is 4)\n",
        "# results = vectorstore.similarity_search(query, k=2)\n",
        "\n",
        "# query_ai = \"What is modern computing about?\"\n",
        "# print(f\"\\nPerforming semantic search for query: '{query_ai}'\")\n",
        "# results_ai = vectorstore.similarity_search(query_ai, k=1)\n",
        "\n",
        "# print(\"\\nTop 1 relevant document for AI query:\")\n",
        "# for i, doc in enumerate(results_ai):\n",
        "#     print(f\"  Result {i+1}:\")\n",
        "#     print(f\"    Content: {doc.page_content}\")\n",
        "#     print(f\"    Metadata: {doc.metadata}\")\n",
        "#     print(\"-\" * 20)\n",
        "\n",
        "########################################"
      ],
      "metadata": {
        "id": "uPw6ghYPditj"
      },
      "execution_count": null,
      "outputs": []
    },
    {
      "cell_type": "code",
      "source": [
        "import configparser\n",
        "import os\n",
        "# set up config parser\n",
        "config = configparser.ConfigParser()\n",
        "config.read(\"/content/config_hf.ini\")  # holds secrets and keys\n",
        "\n",
        "\n",
        "# load Groq config\n",
        "hf = config[\"huggingface\"]"
      ],
      "metadata": {
        "id": "uJM1WF13zEV5"
      },
      "execution_count": null,
      "outputs": []
    },
    {
      "cell_type": "code",
      "execution_count": null,
      "metadata": {
        "id": "Vsm7YXYpqdwg"
      },
      "outputs": [],
      "source": [
        "model_id = \"sentence-transformers/all-MiniLM-L6-v2\""
      ]
    },
    {
      "cell_type": "code",
      "source": [
        "import requests\n",
        "\n",
        "api_url = f\"https://api-inference.huggingface.co/pipeline/feature-extraction/{model_id}\"\n",
        "headers = {\"Authorization\": f\"Bearer {hf.get('hf_token')}\"}"
      ],
      "metadata": {
        "id": "UZoXojz8qv6V"
      },
      "execution_count": null,
      "outputs": []
    },
    {
      "cell_type": "code",
      "source": [
        "def query(texts):\n",
        "    response = requests.post(api_url, headers=headers, json={\"inputs\": texts, \"options\":{\"wait_for_model\":True}})\n",
        "    return response.json()"
      ],
      "metadata": {
        "id": "E-ngFN1eqyuw"
      },
      "execution_count": null,
      "outputs": []
    },
    {
      "cell_type": "code",
      "source": [
        "texts = [\"How do I get a replacement Medicare card?\",\n",
        "         \"Can i replace Medicare Card?\",\n",
        "         \"My Medicare card is damaged. Can i get a new one?\",\n",
        "\n",
        "         \"What is the monthly premium for Medicare Part B?\",\n",
        "         \"What will be total annual premium of Medicare ?\",\n",
        "         \"Can i get details of monthly premium of Medicare card?\",\n",
        "\n",
        "        \"How do I terminate my Medicare Part B (medical insurance)?\",\n",
        "         \"How to stop services of Medicare card?\",\n",
        "         \"Tell me steps to stop medicare part b\",\n",
        "\n",
        "        \"How do I sign up for Medicare?\",\n",
        "        \"Can I sign up for Medicare Part B if I am working and have health insurance through an employer?\",\n",
        "        \"How do I sign up for Medicare Part B if I already have Part A?\",\n",
        "\n",
        "         \"What are Medicare late enrollment penalties?\",\n",
        "        \"What is Medicare and who can get it?\",\n",
        "        \"How can I get help with my Medicare Part A and Part B premiums?\",\n",
        "        \"What are the different parts of Medicare?\",\n",
        "        \"Will my Medicare premiums be higher because of my higher income?\",\n",
        "        \"What is TRICARE ?\",\n",
        "        \"Should I sign up for Medicare Part B if I have Veterans' Benefits?\"]\n",
        "\n",
        "output = query(texts)"
      ],
      "metadata": {
        "id": "Rl7f2gnbq2bF"
      },
      "execution_count": null,
      "outputs": []
    },
    {
      "cell_type": "code",
      "source": [
        "len(output), len(output[0])"
      ],
      "metadata": {
        "colab": {
          "base_uri": "https://localhost:8080/"
        },
        "id": "2X_BBfVh4P_c",
        "outputId": "bc2942ca-c670-4983-a36b-5249dae03bce"
      },
      "execution_count": null,
      "outputs": [
        {
          "output_type": "execute_result",
          "data": {
            "text/plain": [
              "(19, 384)"
            ]
          },
          "metadata": {},
          "execution_count": 7
        }
      ]
    },
    {
      "cell_type": "code",
      "source": [
        "import pandas as pd\n",
        "embeddings = pd.DataFrame(output)"
      ],
      "metadata": {
        "id": "l4MxLgKOrvg-"
      },
      "execution_count": null,
      "outputs": []
    },
    {
      "cell_type": "code",
      "source": [
        "embeddings.shape"
      ],
      "metadata": {
        "colab": {
          "base_uri": "https://localhost:8080/"
        },
        "id": "rHqmmw18rwOQ",
        "outputId": "4af32977-bc4a-4bfa-c11a-9d5f75cff304"
      },
      "execution_count": null,
      "outputs": [
        {
          "output_type": "execute_result",
          "data": {
            "text/plain": [
              "(19, 384)"
            ]
          },
          "metadata": {},
          "execution_count": 8
        }
      ]
    },
    {
      "cell_type": "code",
      "source": [
        "embeddings.head()"
      ],
      "metadata": {
        "colab": {
          "base_uri": "https://localhost:8080/"
        },
        "id": "tJtZJ0SWlgTJ",
        "outputId": "30f9e556-54c8-49b2-bf32-293066ef51ef"
      },
      "execution_count": null,
      "outputs": [
        {
          "output_type": "execute_result",
          "data": {
            "text/plain": [
              "        0         1         2         3         4         5         6    \\\n",
              "0 -0.023889  0.055259 -0.011655 -0.033414 -0.012261 -0.024873 -0.012663   \n",
              "1 -0.038758  0.077941 -0.038055 -0.035977 -0.021916 -0.011836  0.000137   \n",
              "2 -0.071992  0.015500  0.004349 -0.032414 -0.018947 -0.042882 -0.000784   \n",
              "3 -0.012688  0.046874 -0.010502 -0.020384 -0.013361  0.042322  0.016628   \n",
              "4 -0.031922  0.036315 -0.020247 -0.024124 -0.043004 -0.009509 -0.015991   \n",
              "\n",
              "        7         8         9    ...       374       375       376       377  \\\n",
              "0  0.025346  0.018508 -0.083508  ... -0.161688 -0.046426  0.006004  0.005281   \n",
              "1 -0.006933 -0.011747 -0.071627  ... -0.113827 -0.022641  0.002930  0.005878   \n",
              "2  0.033031  0.008240 -0.055640  ... -0.153240 -0.046538  0.016856 -0.003032   \n",
              "3 -0.004099 -0.002607 -0.010188  ... -0.061594 -0.020717 -0.009082 -0.029260   \n",
              "4 -0.002014  0.001177  0.009923  ... -0.069229  0.008611 -0.005072 -0.018263   \n",
              "\n",
              "        378       379       380       381       382       383  \n",
              "0 -0.003342  0.027754  0.020411  0.005778  0.034098 -0.006889  \n",
              "1 -0.043992  0.026811  0.022756 -0.045714  0.091095 -0.044604  \n",
              "2  0.002823  0.030537 -0.000431 -0.056340  0.036903  0.006722  \n",
              "3 -0.066253  0.065257  0.013229 -0.023103 -0.002785  0.010474  \n",
              "4 -0.139396  0.038483  0.032838 -0.076717  0.049964  0.020160  \n",
              "\n",
              "[5 rows x 384 columns]"
            ],
            "text/html": [
              "\n",
              "  <div id=\"df-ec15b595-7742-4f15-9c40-f1de419a16ce\" class=\"colab-df-container\">\n",
              "    <div>\n",
              "<style scoped>\n",
              "    .dataframe tbody tr th:only-of-type {\n",
              "        vertical-align: middle;\n",
              "    }\n",
              "\n",
              "    .dataframe tbody tr th {\n",
              "        vertical-align: top;\n",
              "    }\n",
              "\n",
              "    .dataframe thead th {\n",
              "        text-align: right;\n",
              "    }\n",
              "</style>\n",
              "<table border=\"1\" class=\"dataframe\">\n",
              "  <thead>\n",
              "    <tr style=\"text-align: right;\">\n",
              "      <th></th>\n",
              "      <th>0</th>\n",
              "      <th>1</th>\n",
              "      <th>2</th>\n",
              "      <th>3</th>\n",
              "      <th>4</th>\n",
              "      <th>5</th>\n",
              "      <th>6</th>\n",
              "      <th>7</th>\n",
              "      <th>8</th>\n",
              "      <th>9</th>\n",
              "      <th>...</th>\n",
              "      <th>374</th>\n",
              "      <th>375</th>\n",
              "      <th>376</th>\n",
              "      <th>377</th>\n",
              "      <th>378</th>\n",
              "      <th>379</th>\n",
              "      <th>380</th>\n",
              "      <th>381</th>\n",
              "      <th>382</th>\n",
              "      <th>383</th>\n",
              "    </tr>\n",
              "  </thead>\n",
              "  <tbody>\n",
              "    <tr>\n",
              "      <th>0</th>\n",
              "      <td>-0.023889</td>\n",
              "      <td>0.055259</td>\n",
              "      <td>-0.011655</td>\n",
              "      <td>-0.033414</td>\n",
              "      <td>-0.012261</td>\n",
              "      <td>-0.024873</td>\n",
              "      <td>-0.012663</td>\n",
              "      <td>0.025346</td>\n",
              "      <td>0.018508</td>\n",
              "      <td>-0.083508</td>\n",
              "      <td>...</td>\n",
              "      <td>-0.161688</td>\n",
              "      <td>-0.046426</td>\n",
              "      <td>0.006004</td>\n",
              "      <td>0.005281</td>\n",
              "      <td>-0.003342</td>\n",
              "      <td>0.027754</td>\n",
              "      <td>0.020411</td>\n",
              "      <td>0.005778</td>\n",
              "      <td>0.034098</td>\n",
              "      <td>-0.006889</td>\n",
              "    </tr>\n",
              "    <tr>\n",
              "      <th>1</th>\n",
              "      <td>-0.038758</td>\n",
              "      <td>0.077941</td>\n",
              "      <td>-0.038055</td>\n",
              "      <td>-0.035977</td>\n",
              "      <td>-0.021916</td>\n",
              "      <td>-0.011836</td>\n",
              "      <td>0.000137</td>\n",
              "      <td>-0.006933</td>\n",
              "      <td>-0.011747</td>\n",
              "      <td>-0.071627</td>\n",
              "      <td>...</td>\n",
              "      <td>-0.113827</td>\n",
              "      <td>-0.022641</td>\n",
              "      <td>0.002930</td>\n",
              "      <td>0.005878</td>\n",
              "      <td>-0.043992</td>\n",
              "      <td>0.026811</td>\n",
              "      <td>0.022756</td>\n",
              "      <td>-0.045714</td>\n",
              "      <td>0.091095</td>\n",
              "      <td>-0.044604</td>\n",
              "    </tr>\n",
              "    <tr>\n",
              "      <th>2</th>\n",
              "      <td>-0.071992</td>\n",
              "      <td>0.015500</td>\n",
              "      <td>0.004349</td>\n",
              "      <td>-0.032414</td>\n",
              "      <td>-0.018947</td>\n",
              "      <td>-0.042882</td>\n",
              "      <td>-0.000784</td>\n",
              "      <td>0.033031</td>\n",
              "      <td>0.008240</td>\n",
              "      <td>-0.055640</td>\n",
              "      <td>...</td>\n",
              "      <td>-0.153240</td>\n",
              "      <td>-0.046538</td>\n",
              "      <td>0.016856</td>\n",
              "      <td>-0.003032</td>\n",
              "      <td>0.002823</td>\n",
              "      <td>0.030537</td>\n",
              "      <td>-0.000431</td>\n",
              "      <td>-0.056340</td>\n",
              "      <td>0.036903</td>\n",
              "      <td>0.006722</td>\n",
              "    </tr>\n",
              "    <tr>\n",
              "      <th>3</th>\n",
              "      <td>-0.012688</td>\n",
              "      <td>0.046874</td>\n",
              "      <td>-0.010502</td>\n",
              "      <td>-0.020384</td>\n",
              "      <td>-0.013361</td>\n",
              "      <td>0.042322</td>\n",
              "      <td>0.016628</td>\n",
              "      <td>-0.004099</td>\n",
              "      <td>-0.002607</td>\n",
              "      <td>-0.010188</td>\n",
              "      <td>...</td>\n",
              "      <td>-0.061594</td>\n",
              "      <td>-0.020717</td>\n",
              "      <td>-0.009082</td>\n",
              "      <td>-0.029260</td>\n",
              "      <td>-0.066253</td>\n",
              "      <td>0.065257</td>\n",
              "      <td>0.013229</td>\n",
              "      <td>-0.023103</td>\n",
              "      <td>-0.002785</td>\n",
              "      <td>0.010474</td>\n",
              "    </tr>\n",
              "    <tr>\n",
              "      <th>4</th>\n",
              "      <td>-0.031922</td>\n",
              "      <td>0.036315</td>\n",
              "      <td>-0.020247</td>\n",
              "      <td>-0.024124</td>\n",
              "      <td>-0.043004</td>\n",
              "      <td>-0.009509</td>\n",
              "      <td>-0.015991</td>\n",
              "      <td>-0.002014</td>\n",
              "      <td>0.001177</td>\n",
              "      <td>0.009923</td>\n",
              "      <td>...</td>\n",
              "      <td>-0.069229</td>\n",
              "      <td>0.008611</td>\n",
              "      <td>-0.005072</td>\n",
              "      <td>-0.018263</td>\n",
              "      <td>-0.139396</td>\n",
              "      <td>0.038483</td>\n",
              "      <td>0.032838</td>\n",
              "      <td>-0.076717</td>\n",
              "      <td>0.049964</td>\n",
              "      <td>0.020160</td>\n",
              "    </tr>\n",
              "  </tbody>\n",
              "</table>\n",
              "<p>5 rows × 384 columns</p>\n",
              "</div>\n",
              "    <div class=\"colab-df-buttons\">\n",
              "\n",
              "  <div class=\"colab-df-container\">\n",
              "    <button class=\"colab-df-convert\" onclick=\"convertToInteractive('df-ec15b595-7742-4f15-9c40-f1de419a16ce')\"\n",
              "            title=\"Convert this dataframe to an interactive table.\"\n",
              "            style=\"display:none;\">\n",
              "\n",
              "  <svg xmlns=\"http://www.w3.org/2000/svg\" height=\"24px\" viewBox=\"0 -960 960 960\">\n",
              "    <path d=\"M120-120v-720h720v720H120Zm60-500h600v-160H180v160Zm220 220h160v-160H400v160Zm0 220h160v-160H400v160ZM180-400h160v-160H180v160Zm440 0h160v-160H620v160ZM180-180h160v-160H180v160Zm440 0h160v-160H620v160Z\"/>\n",
              "  </svg>\n",
              "    </button>\n",
              "\n",
              "  <style>\n",
              "    .colab-df-container {\n",
              "      display:flex;\n",
              "      gap: 12px;\n",
              "    }\n",
              "\n",
              "    .colab-df-convert {\n",
              "      background-color: #E8F0FE;\n",
              "      border: none;\n",
              "      border-radius: 50%;\n",
              "      cursor: pointer;\n",
              "      display: none;\n",
              "      fill: #1967D2;\n",
              "      height: 32px;\n",
              "      padding: 0 0 0 0;\n",
              "      width: 32px;\n",
              "    }\n",
              "\n",
              "    .colab-df-convert:hover {\n",
              "      background-color: #E2EBFA;\n",
              "      box-shadow: 0px 1px 2px rgba(60, 64, 67, 0.3), 0px 1px 3px 1px rgba(60, 64, 67, 0.15);\n",
              "      fill: #174EA6;\n",
              "    }\n",
              "\n",
              "    .colab-df-buttons div {\n",
              "      margin-bottom: 4px;\n",
              "    }\n",
              "\n",
              "    [theme=dark] .colab-df-convert {\n",
              "      background-color: #3B4455;\n",
              "      fill: #D2E3FC;\n",
              "    }\n",
              "\n",
              "    [theme=dark] .colab-df-convert:hover {\n",
              "      background-color: #434B5C;\n",
              "      box-shadow: 0px 1px 3px 1px rgba(0, 0, 0, 0.15);\n",
              "      filter: drop-shadow(0px 1px 2px rgba(0, 0, 0, 0.3));\n",
              "      fill: #FFFFFF;\n",
              "    }\n",
              "  </style>\n",
              "\n",
              "    <script>\n",
              "      const buttonEl =\n",
              "        document.querySelector('#df-ec15b595-7742-4f15-9c40-f1de419a16ce button.colab-df-convert');\n",
              "      buttonEl.style.display =\n",
              "        google.colab.kernel.accessAllowed ? 'block' : 'none';\n",
              "\n",
              "      async function convertToInteractive(key) {\n",
              "        const element = document.querySelector('#df-ec15b595-7742-4f15-9c40-f1de419a16ce');\n",
              "        const dataTable =\n",
              "          await google.colab.kernel.invokeFunction('convertToInteractive',\n",
              "                                                    [key], {});\n",
              "        if (!dataTable) return;\n",
              "\n",
              "        const docLinkHtml = 'Like what you see? Visit the ' +\n",
              "          '<a target=\"_blank\" href=https://colab.research.google.com/notebooks/data_table.ipynb>data table notebook</a>'\n",
              "          + ' to learn more about interactive tables.';\n",
              "        element.innerHTML = '';\n",
              "        dataTable['output_type'] = 'display_data';\n",
              "        await google.colab.output.renderOutput(dataTable, element);\n",
              "        const docLink = document.createElement('div');\n",
              "        docLink.innerHTML = docLinkHtml;\n",
              "        element.appendChild(docLink);\n",
              "      }\n",
              "    </script>\n",
              "  </div>\n",
              "\n",
              "\n",
              "<div id=\"df-bc6cb5cf-b998-4266-8ad7-fd121fa20a8f\">\n",
              "  <button class=\"colab-df-quickchart\" onclick=\"quickchart('df-bc6cb5cf-b998-4266-8ad7-fd121fa20a8f')\"\n",
              "            title=\"Suggest charts\"\n",
              "            style=\"display:none;\">\n",
              "\n",
              "<svg xmlns=\"http://www.w3.org/2000/svg\" height=\"24px\"viewBox=\"0 0 24 24\"\n",
              "     width=\"24px\">\n",
              "    <g>\n",
              "        <path d=\"M19 3H5c-1.1 0-2 .9-2 2v14c0 1.1.9 2 2 2h14c1.1 0 2-.9 2-2V5c0-1.1-.9-2-2-2zM9 17H7v-7h2v7zm4 0h-2V7h2v10zm4 0h-2v-4h2v4z\"/>\n",
              "    </g>\n",
              "</svg>\n",
              "  </button>\n",
              "\n",
              "<style>\n",
              "  .colab-df-quickchart {\n",
              "      --bg-color: #E8F0FE;\n",
              "      --fill-color: #1967D2;\n",
              "      --hover-bg-color: #E2EBFA;\n",
              "      --hover-fill-color: #174EA6;\n",
              "      --disabled-fill-color: #AAA;\n",
              "      --disabled-bg-color: #DDD;\n",
              "  }\n",
              "\n",
              "  [theme=dark] .colab-df-quickchart {\n",
              "      --bg-color: #3B4455;\n",
              "      --fill-color: #D2E3FC;\n",
              "      --hover-bg-color: #434B5C;\n",
              "      --hover-fill-color: #FFFFFF;\n",
              "      --disabled-bg-color: #3B4455;\n",
              "      --disabled-fill-color: #666;\n",
              "  }\n",
              "\n",
              "  .colab-df-quickchart {\n",
              "    background-color: var(--bg-color);\n",
              "    border: none;\n",
              "    border-radius: 50%;\n",
              "    cursor: pointer;\n",
              "    display: none;\n",
              "    fill: var(--fill-color);\n",
              "    height: 32px;\n",
              "    padding: 0;\n",
              "    width: 32px;\n",
              "  }\n",
              "\n",
              "  .colab-df-quickchart:hover {\n",
              "    background-color: var(--hover-bg-color);\n",
              "    box-shadow: 0 1px 2px rgba(60, 64, 67, 0.3), 0 1px 3px 1px rgba(60, 64, 67, 0.15);\n",
              "    fill: var(--button-hover-fill-color);\n",
              "  }\n",
              "\n",
              "  .colab-df-quickchart-complete:disabled,\n",
              "  .colab-df-quickchart-complete:disabled:hover {\n",
              "    background-color: var(--disabled-bg-color);\n",
              "    fill: var(--disabled-fill-color);\n",
              "    box-shadow: none;\n",
              "  }\n",
              "\n",
              "  .colab-df-spinner {\n",
              "    border: 2px solid var(--fill-color);\n",
              "    border-color: transparent;\n",
              "    border-bottom-color: var(--fill-color);\n",
              "    animation:\n",
              "      spin 1s steps(1) infinite;\n",
              "  }\n",
              "\n",
              "  @keyframes spin {\n",
              "    0% {\n",
              "      border-color: transparent;\n",
              "      border-bottom-color: var(--fill-color);\n",
              "      border-left-color: var(--fill-color);\n",
              "    }\n",
              "    20% {\n",
              "      border-color: transparent;\n",
              "      border-left-color: var(--fill-color);\n",
              "      border-top-color: var(--fill-color);\n",
              "    }\n",
              "    30% {\n",
              "      border-color: transparent;\n",
              "      border-left-color: var(--fill-color);\n",
              "      border-top-color: var(--fill-color);\n",
              "      border-right-color: var(--fill-color);\n",
              "    }\n",
              "    40% {\n",
              "      border-color: transparent;\n",
              "      border-right-color: var(--fill-color);\n",
              "      border-top-color: var(--fill-color);\n",
              "    }\n",
              "    60% {\n",
              "      border-color: transparent;\n",
              "      border-right-color: var(--fill-color);\n",
              "    }\n",
              "    80% {\n",
              "      border-color: transparent;\n",
              "      border-right-color: var(--fill-color);\n",
              "      border-bottom-color: var(--fill-color);\n",
              "    }\n",
              "    90% {\n",
              "      border-color: transparent;\n",
              "      border-bottom-color: var(--fill-color);\n",
              "    }\n",
              "  }\n",
              "</style>\n",
              "\n",
              "  <script>\n",
              "    async function quickchart(key) {\n",
              "      const quickchartButtonEl =\n",
              "        document.querySelector('#' + key + ' button');\n",
              "      quickchartButtonEl.disabled = true;  // To prevent multiple clicks.\n",
              "      quickchartButtonEl.classList.add('colab-df-spinner');\n",
              "      try {\n",
              "        const charts = await google.colab.kernel.invokeFunction(\n",
              "            'suggestCharts', [key], {});\n",
              "      } catch (error) {\n",
              "        console.error('Error during call to suggestCharts:', error);\n",
              "      }\n",
              "      quickchartButtonEl.classList.remove('colab-df-spinner');\n",
              "      quickchartButtonEl.classList.add('colab-df-quickchart-complete');\n",
              "    }\n",
              "    (() => {\n",
              "      let quickchartButtonEl =\n",
              "        document.querySelector('#df-bc6cb5cf-b998-4266-8ad7-fd121fa20a8f button');\n",
              "      quickchartButtonEl.style.display =\n",
              "        google.colab.kernel.accessAllowed ? 'block' : 'none';\n",
              "    })();\n",
              "  </script>\n",
              "</div>\n",
              "\n",
              "    </div>\n",
              "  </div>\n"
            ],
            "application/vnd.google.colaboratory.intrinsic+json": {
              "type": "dataframe",
              "variable_name": "embeddings"
            }
          },
          "metadata": {},
          "execution_count": 9
        }
      ]
    },
    {
      "cell_type": "markdown",
      "source": [
        "# Store embeddings as a csv file"
      ],
      "metadata": {
        "id": "R4CDKv-2tTt1"
      }
    },
    {
      "cell_type": "code",
      "source": [
        "embeddings.to_csv(\"FAQ_embeddings.csv\",index=False)"
      ],
      "metadata": {
        "id": "0MU-7I5ctTGm"
      },
      "execution_count": null,
      "outputs": []
    },
    {
      "cell_type": "markdown",
      "source": [
        "# Load Embeddings from csv file and Get the most similar Frequently Asked Questions to a query"
      ],
      "metadata": {
        "id": "bOS-B6WiuQpj"
      }
    },
    {
      "cell_type": "code",
      "source": [
        "!pip install datasets"
      ],
      "metadata": {
        "colab": {
          "base_uri": "https://localhost:8080/"
        },
        "id": "GqIBhIXxtz8U",
        "outputId": "4f875ce1-c99d-403a-fc29-e5be79ff1742"
      },
      "execution_count": null,
      "outputs": [
        {
          "output_type": "stream",
          "name": "stdout",
          "text": [
            "Collecting datasets\n",
            "  Downloading datasets-3.1.0-py3-none-any.whl.metadata (20 kB)\n",
            "Requirement already satisfied: filelock in /usr/local/lib/python3.10/dist-packages (from datasets) (3.16.1)\n",
            "Requirement already satisfied: numpy>=1.17 in /usr/local/lib/python3.10/dist-packages (from datasets) (1.26.4)\n",
            "Requirement already satisfied: pyarrow>=15.0.0 in /usr/local/lib/python3.10/dist-packages (from datasets) (17.0.0)\n",
            "Collecting dill<0.3.9,>=0.3.0 (from datasets)\n",
            "  Downloading dill-0.3.8-py3-none-any.whl.metadata (10 kB)\n",
            "Requirement already satisfied: pandas in /usr/local/lib/python3.10/dist-packages (from datasets) (2.2.2)\n",
            "Requirement already satisfied: requests>=2.32.2 in /usr/local/lib/python3.10/dist-packages (from datasets) (2.32.3)\n",
            "Requirement already satisfied: tqdm>=4.66.3 in /usr/local/lib/python3.10/dist-packages (from datasets) (4.66.6)\n",
            "Collecting xxhash (from datasets)\n",
            "  Downloading xxhash-3.5.0-cp310-cp310-manylinux_2_17_x86_64.manylinux2014_x86_64.whl.metadata (12 kB)\n",
            "Collecting multiprocess<0.70.17 (from datasets)\n",
            "  Downloading multiprocess-0.70.16-py310-none-any.whl.metadata (7.2 kB)\n",
            "Collecting fsspec<=2024.9.0,>=2023.1.0 (from fsspec[http]<=2024.9.0,>=2023.1.0->datasets)\n",
            "  Downloading fsspec-2024.9.0-py3-none-any.whl.metadata (11 kB)\n",
            "Requirement already satisfied: aiohttp in /usr/local/lib/python3.10/dist-packages (from datasets) (3.11.2)\n",
            "Requirement already satisfied: huggingface-hub>=0.23.0 in /usr/local/lib/python3.10/dist-packages (from datasets) (0.26.2)\n",
            "Requirement already satisfied: packaging in /usr/local/lib/python3.10/dist-packages (from datasets) (24.2)\n",
            "Requirement already satisfied: pyyaml>=5.1 in /usr/local/lib/python3.10/dist-packages (from datasets) (6.0.2)\n",
            "Requirement already satisfied: aiohappyeyeballs>=2.3.0 in /usr/local/lib/python3.10/dist-packages (from aiohttp->datasets) (2.4.3)\n",
            "Requirement already satisfied: aiosignal>=1.1.2 in /usr/local/lib/python3.10/dist-packages (from aiohttp->datasets) (1.3.1)\n",
            "Requirement already satisfied: attrs>=17.3.0 in /usr/local/lib/python3.10/dist-packages (from aiohttp->datasets) (24.2.0)\n",
            "Requirement already satisfied: frozenlist>=1.1.1 in /usr/local/lib/python3.10/dist-packages (from aiohttp->datasets) (1.5.0)\n",
            "Requirement already satisfied: multidict<7.0,>=4.5 in /usr/local/lib/python3.10/dist-packages (from aiohttp->datasets) (6.1.0)\n",
            "Requirement already satisfied: propcache>=0.2.0 in /usr/local/lib/python3.10/dist-packages (from aiohttp->datasets) (0.2.0)\n",
            "Requirement already satisfied: yarl<2.0,>=1.17.0 in /usr/local/lib/python3.10/dist-packages (from aiohttp->datasets) (1.17.2)\n",
            "Requirement already satisfied: async-timeout<6.0,>=4.0 in /usr/local/lib/python3.10/dist-packages (from aiohttp->datasets) (4.0.3)\n",
            "Requirement already satisfied: typing-extensions>=3.7.4.3 in /usr/local/lib/python3.10/dist-packages (from huggingface-hub>=0.23.0->datasets) (4.12.2)\n",
            "Requirement already satisfied: charset-normalizer<4,>=2 in /usr/local/lib/python3.10/dist-packages (from requests>=2.32.2->datasets) (3.4.0)\n",
            "Requirement already satisfied: idna<4,>=2.5 in /usr/local/lib/python3.10/dist-packages (from requests>=2.32.2->datasets) (3.10)\n",
            "Requirement already satisfied: urllib3<3,>=1.21.1 in /usr/local/lib/python3.10/dist-packages (from requests>=2.32.2->datasets) (2.2.3)\n",
            "Requirement already satisfied: certifi>=2017.4.17 in /usr/local/lib/python3.10/dist-packages (from requests>=2.32.2->datasets) (2024.8.30)\n",
            "Requirement already satisfied: python-dateutil>=2.8.2 in /usr/local/lib/python3.10/dist-packages (from pandas->datasets) (2.8.2)\n",
            "Requirement already satisfied: pytz>=2020.1 in /usr/local/lib/python3.10/dist-packages (from pandas->datasets) (2024.2)\n",
            "Requirement already satisfied: tzdata>=2022.7 in /usr/local/lib/python3.10/dist-packages (from pandas->datasets) (2024.2)\n",
            "Requirement already satisfied: six>=1.5 in /usr/local/lib/python3.10/dist-packages (from python-dateutil>=2.8.2->pandas->datasets) (1.16.0)\n",
            "Downloading datasets-3.1.0-py3-none-any.whl (480 kB)\n",
            "\u001b[2K   \u001b[90m━━━━━━━━━━━━━━━━━━━━━━━━━━━━━━━━━━━━━━━━\u001b[0m \u001b[32m480.6/480.6 kB\u001b[0m \u001b[31m15.6 MB/s\u001b[0m eta \u001b[36m0:00:00\u001b[0m\n",
            "\u001b[?25hDownloading dill-0.3.8-py3-none-any.whl (116 kB)\n",
            "\u001b[2K   \u001b[90m━━━━━━━━━━━━━━━━━━━━━━━━━━━━━━━━━━━━━━━━\u001b[0m \u001b[32m116.3/116.3 kB\u001b[0m \u001b[31m12.8 MB/s\u001b[0m eta \u001b[36m0:00:00\u001b[0m\n",
            "\u001b[?25hDownloading fsspec-2024.9.0-py3-none-any.whl (179 kB)\n",
            "\u001b[2K   \u001b[90m━━━━━━━━━━━━━━━━━━━━━━━━━━━━━━━━━━━━━━━━\u001b[0m \u001b[32m179.3/179.3 kB\u001b[0m \u001b[31m20.8 MB/s\u001b[0m eta \u001b[36m0:00:00\u001b[0m\n",
            "\u001b[?25hDownloading multiprocess-0.70.16-py310-none-any.whl (134 kB)\n",
            "\u001b[2K   \u001b[90m━━━━━━━━━━━━━━━━━━━━━━━━━━━━━━━━━━━━━━━━\u001b[0m \u001b[32m134.8/134.8 kB\u001b[0m \u001b[31m15.8 MB/s\u001b[0m eta \u001b[36m0:00:00\u001b[0m\n",
            "\u001b[?25hDownloading xxhash-3.5.0-cp310-cp310-manylinux_2_17_x86_64.manylinux2014_x86_64.whl (194 kB)\n",
            "\u001b[2K   \u001b[90m━━━━━━━━━━━━━━━━━━━━━━━━━━━━━━━━━━━━━━━━\u001b[0m \u001b[32m194.1/194.1 kB\u001b[0m \u001b[31m21.1 MB/s\u001b[0m eta \u001b[36m0:00:00\u001b[0m\n",
            "\u001b[?25hInstalling collected packages: xxhash, fsspec, dill, multiprocess, datasets\n",
            "  Attempting uninstall: fsspec\n",
            "    Found existing installation: fsspec 2024.10.0\n",
            "    Uninstalling fsspec-2024.10.0:\n",
            "      Successfully uninstalled fsspec-2024.10.0\n",
            "\u001b[31mERROR: pip's dependency resolver does not currently take into account all the packages that are installed. This behaviour is the source of the following dependency conflicts.\n",
            "gcsfs 2024.10.0 requires fsspec==2024.10.0, but you have fsspec 2024.9.0 which is incompatible.\u001b[0m\u001b[31m\n",
            "\u001b[0mSuccessfully installed datasets-3.1.0 dill-0.3.8 fsspec-2024.9.0 multiprocess-0.70.16 xxhash-3.5.0\n"
          ]
        }
      ]
    },
    {
      "cell_type": "code",
      "source": [
        "!pip install -U sentence-transformers"
      ],
      "metadata": {
        "colab": {
          "base_uri": "https://localhost:8080/"
        },
        "id": "Cb6AMo_-unLu",
        "outputId": "6bb313a9-04b4-4d6a-bae1-70ffe29fc879"
      },
      "execution_count": null,
      "outputs": [
        {
          "output_type": "stream",
          "name": "stdout",
          "text": [
            "Requirement already satisfied: sentence-transformers in /usr/local/lib/python3.10/dist-packages (3.2.1)\n",
            "Collecting sentence-transformers\n",
            "  Downloading sentence_transformers-3.3.1-py3-none-any.whl.metadata (10 kB)\n",
            "Requirement already satisfied: transformers<5.0.0,>=4.41.0 in /usr/local/lib/python3.10/dist-packages (from sentence-transformers) (4.46.2)\n",
            "Requirement already satisfied: tqdm in /usr/local/lib/python3.10/dist-packages (from sentence-transformers) (4.66.6)\n",
            "Requirement already satisfied: torch>=1.11.0 in /usr/local/lib/python3.10/dist-packages (from sentence-transformers) (2.5.1+cu121)\n",
            "Requirement already satisfied: scikit-learn in /usr/local/lib/python3.10/dist-packages (from sentence-transformers) (1.5.2)\n",
            "Requirement already satisfied: scipy in /usr/local/lib/python3.10/dist-packages (from sentence-transformers) (1.13.1)\n",
            "Requirement already satisfied: huggingface-hub>=0.20.0 in /usr/local/lib/python3.10/dist-packages (from sentence-transformers) (0.26.2)\n",
            "Requirement already satisfied: Pillow in /usr/local/lib/python3.10/dist-packages (from sentence-transformers) (11.0.0)\n",
            "Requirement already satisfied: filelock in /usr/local/lib/python3.10/dist-packages (from huggingface-hub>=0.20.0->sentence-transformers) (3.16.1)\n",
            "Requirement already satisfied: fsspec>=2023.5.0 in /usr/local/lib/python3.10/dist-packages (from huggingface-hub>=0.20.0->sentence-transformers) (2024.9.0)\n",
            "Requirement already satisfied: packaging>=20.9 in /usr/local/lib/python3.10/dist-packages (from huggingface-hub>=0.20.0->sentence-transformers) (24.2)\n",
            "Requirement already satisfied: pyyaml>=5.1 in /usr/local/lib/python3.10/dist-packages (from huggingface-hub>=0.20.0->sentence-transformers) (6.0.2)\n",
            "Requirement already satisfied: requests in /usr/local/lib/python3.10/dist-packages (from huggingface-hub>=0.20.0->sentence-transformers) (2.32.3)\n",
            "Requirement already satisfied: typing-extensions>=3.7.4.3 in /usr/local/lib/python3.10/dist-packages (from huggingface-hub>=0.20.0->sentence-transformers) (4.12.2)\n",
            "Requirement already satisfied: networkx in /usr/local/lib/python3.10/dist-packages (from torch>=1.11.0->sentence-transformers) (3.4.2)\n",
            "Requirement already satisfied: jinja2 in /usr/local/lib/python3.10/dist-packages (from torch>=1.11.0->sentence-transformers) (3.1.4)\n",
            "Requirement already satisfied: sympy==1.13.1 in /usr/local/lib/python3.10/dist-packages (from torch>=1.11.0->sentence-transformers) (1.13.1)\n",
            "Requirement already satisfied: mpmath<1.4,>=1.1.0 in /usr/local/lib/python3.10/dist-packages (from sympy==1.13.1->torch>=1.11.0->sentence-transformers) (1.3.0)\n",
            "Requirement already satisfied: numpy>=1.17 in /usr/local/lib/python3.10/dist-packages (from transformers<5.0.0,>=4.41.0->sentence-transformers) (1.26.4)\n",
            "Requirement already satisfied: regex!=2019.12.17 in /usr/local/lib/python3.10/dist-packages (from transformers<5.0.0,>=4.41.0->sentence-transformers) (2024.9.11)\n",
            "Requirement already satisfied: safetensors>=0.4.1 in /usr/local/lib/python3.10/dist-packages (from transformers<5.0.0,>=4.41.0->sentence-transformers) (0.4.5)\n",
            "Requirement already satisfied: tokenizers<0.21,>=0.20 in /usr/local/lib/python3.10/dist-packages (from transformers<5.0.0,>=4.41.0->sentence-transformers) (0.20.3)\n",
            "Requirement already satisfied: joblib>=1.2.0 in /usr/local/lib/python3.10/dist-packages (from scikit-learn->sentence-transformers) (1.4.2)\n",
            "Requirement already satisfied: threadpoolctl>=3.1.0 in /usr/local/lib/python3.10/dist-packages (from scikit-learn->sentence-transformers) (3.5.0)\n",
            "Requirement already satisfied: MarkupSafe>=2.0 in /usr/local/lib/python3.10/dist-packages (from jinja2->torch>=1.11.0->sentence-transformers) (3.0.2)\n",
            "Requirement already satisfied: charset-normalizer<4,>=2 in /usr/local/lib/python3.10/dist-packages (from requests->huggingface-hub>=0.20.0->sentence-transformers) (3.4.0)\n",
            "Requirement already satisfied: idna<4,>=2.5 in /usr/local/lib/python3.10/dist-packages (from requests->huggingface-hub>=0.20.0->sentence-transformers) (3.10)\n",
            "Requirement already satisfied: urllib3<3,>=1.21.1 in /usr/local/lib/python3.10/dist-packages (from requests->huggingface-hub>=0.20.0->sentence-transformers) (2.2.3)\n",
            "Requirement already satisfied: certifi>=2017.4.17 in /usr/local/lib/python3.10/dist-packages (from requests->huggingface-hub>=0.20.0->sentence-transformers) (2024.8.30)\n",
            "Downloading sentence_transformers-3.3.1-py3-none-any.whl (268 kB)\n",
            "\u001b[2K   \u001b[90m━━━━━━━━━━━━━━━━━━━━━━━━━━━━━━━━━━━━━━━━\u001b[0m \u001b[32m268.8/268.8 kB\u001b[0m \u001b[31m7.2 MB/s\u001b[0m eta \u001b[36m0:00:00\u001b[0m\n",
            "\u001b[?25hInstalling collected packages: sentence-transformers\n",
            "  Attempting uninstall: sentence-transformers\n",
            "    Found existing installation: sentence-transformers 3.2.1\n",
            "    Uninstalling sentence-transformers-3.2.1:\n",
            "      Successfully uninstalled sentence-transformers-3.2.1\n",
            "Successfully installed sentence-transformers-3.3.1\n"
          ]
        }
      ]
    },
    {
      "cell_type": "code",
      "source": [
        "from datasets import load_dataset\n",
        "\n",
        "faqs_embeddings = load_dataset(\"csv\", data_files=\"/content/FAQ_embeddings.csv\" )"
      ],
      "metadata": {
        "colab": {
          "base_uri": "https://localhost:8080/",
          "referenced_widgets": [
            "97008a4fe1794608b5c7649c9e1fc7f5"
          ]
        },
        "id": "rwSLYDfHrzNw",
        "outputId": "bd0b9e75-315b-4ee1-868d-d6309d55357c"
      },
      "execution_count": null,
      "outputs": [
        {
          "output_type": "display_data",
          "data": {
            "text/plain": [
              "Generating train split: 0 examples [00:00, ? examples/s]"
            ],
            "application/vnd.jupyter.widget-view+json": {
              "version_major": 2,
              "version_minor": 0,
              "model_id": "97008a4fe1794608b5c7649c9e1fc7f5"
            }
          },
          "metadata": {}
        }
      ]
    },
    {
      "cell_type": "code",
      "source": [
        "import torch\n",
        "dataset_embeddings = torch.from_numpy(faqs_embeddings[\"train\"].to_pandas().to_numpy()).to(torch.float)"
      ],
      "metadata": {
        "id": "M3quQ1_Jt-TR"
      },
      "execution_count": null,
      "outputs": []
    },
    {
      "cell_type": "code",
      "source": [
        "dataset_embeddings.shape"
      ],
      "metadata": {
        "colab": {
          "base_uri": "https://localhost:8080/"
        },
        "id": "4vyUXZc6u4vp",
        "outputId": "b1163cc3-619a-4d1e-b239-6afd98ffc887"
      },
      "execution_count": null,
      "outputs": [
        {
          "output_type": "execute_result",
          "data": {
            "text/plain": [
              "torch.Size([19, 384])"
            ]
          },
          "metadata": {},
          "execution_count": 15
        }
      ]
    },
    {
      "cell_type": "code",
      "source": [
        "question = [\"How can Medicare help me?\"]\n",
        "output = query(question)\n",
        "\n",
        "query_embeddings = torch.FloatTensor(output)"
      ],
      "metadata": {
        "id": "EfSdH3oguW_U"
      },
      "execution_count": null,
      "outputs": []
    },
    {
      "cell_type": "code",
      "source": [
        "query_embeddings.shape"
      ],
      "metadata": {
        "colab": {
          "base_uri": "https://localhost:8080/"
        },
        "id": "18CXFIaqu632",
        "outputId": "d7e672e3-fc55-4b1b-a4d3-278d2a11f603"
      },
      "execution_count": null,
      "outputs": [
        {
          "output_type": "execute_result",
          "data": {
            "text/plain": [
              "torch.Size([1, 384])"
            ]
          },
          "metadata": {},
          "execution_count": 18
        }
      ]
    },
    {
      "cell_type": "code",
      "source": [
        "from sentence_transformers.util import semantic_search\n",
        "\n",
        "hits = semantic_search(query_embeddings, dataset_embeddings, top_k=2)"
      ],
      "metadata": {
        "id": "WcEwCJyaughr"
      },
      "execution_count": null,
      "outputs": []
    },
    {
      "cell_type": "code",
      "source": [
        "hits"
      ],
      "metadata": {
        "colab": {
          "base_uri": "https://localhost:8080/"
        },
        "id": "6bNVE6Wm3ogO",
        "outputId": "269adde5-aec6-46fd-bb37-7cb535d94df2"
      },
      "execution_count": null,
      "outputs": [
        {
          "output_type": "execute_result",
          "data": {
            "text/plain": [
              "[[{'corpus_id': 14, 'score': 0.7565308213233948},\n",
              "  {'corpus_id': 13, 'score': 0.7418994307518005}]]"
            ]
          },
          "metadata": {},
          "execution_count": 20
        }
      ]
    },
    {
      "cell_type": "code",
      "source": [
        "for i in range(len(hits[0])):\n",
        "  print(texts[hits[0][i]['corpus_id']])"
      ],
      "metadata": {
        "colab": {
          "base_uri": "https://localhost:8080/"
        },
        "id": "sDNLrr12ur9X",
        "outputId": "a2d6c67f-222a-4355-ce1e-cd4c9da926ba"
      },
      "execution_count": null,
      "outputs": [
        {
          "output_type": "stream",
          "name": "stdout",
          "text": [
            "How can I get help with my Medicare Part A and Part B premiums?\n",
            "What is Medicare and who can get it?\n"
          ]
        }
      ]
    },
    {
      "cell_type": "code",
      "source": [
        "question = [\"Will card be replaced?\"]\n",
        "output = query(question)\n",
        "query_embeddings = torch.FloatTensor(output)\n",
        "from sentence_transformers.util import semantic_search\n",
        "\n",
        "hits = semantic_search(query_embeddings, dataset_embeddings, top_k=2)\n",
        "for i in range(len(hits[0])):\n",
        "  print(texts[hits[0][i]['corpus_id']])"
      ],
      "metadata": {
        "colab": {
          "base_uri": "https://localhost:8080/"
        },
        "id": "BvUkeAHuvkfM",
        "outputId": "0535dca8-d471-4ad1-ecda-ca058db631a5"
      },
      "execution_count": null,
      "outputs": [
        {
          "output_type": "stream",
          "name": "stdout",
          "text": [
            "Can i replace Medicare Card?\n",
            "My Medicare card is damaged. Can i get a new one?\n"
          ]
        }
      ]
    },
    {
      "cell_type": "code",
      "source": [
        "question = [\"How much i have to pay for medicare?\"]\n",
        "output = query(question)\n",
        "query_embeddings = torch.FloatTensor(output)\n",
        "from sentence_transformers.util import semantic_search\n",
        "\n",
        "hits = semantic_search(query_embeddings, dataset_embeddings, top_k=2)\n",
        "for i in range(len(hits[0])):\n",
        "  print(texts[hits[0][i]['corpus_id']])"
      ],
      "metadata": {
        "colab": {
          "base_uri": "https://localhost:8080/"
        },
        "id": "vS86rnRov9q0",
        "outputId": "4d3356c2-2b6d-45ca-8335-6cf29b47e68d"
      },
      "execution_count": null,
      "outputs": [
        {
          "output_type": "stream",
          "name": "stdout",
          "text": [
            "What will be total annual premium of Medicare ?\n",
            "How do I sign up for Medicare?\n"
          ]
        }
      ]
    },
    {
      "cell_type": "code",
      "source": [],
      "metadata": {
        "id": "lwS6ERvs3s4I"
      },
      "execution_count": null,
      "outputs": []
    }
  ]
}